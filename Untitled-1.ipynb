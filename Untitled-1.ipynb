{
 "cells": [
  {
   "cell_type": "code",
   "execution_count": 1,
   "metadata": {},
   "outputs": [],
   "source": [
    "from src.dataset.data_reader import XDFDataReader\n",
    "import pandas as pd"
   ]
  },
  {
   "cell_type": "code",
   "execution_count": 3,
   "metadata": {},
   "outputs": [],
   "source": [
    "\n",
    "filepath  = '/home/owaismujtaba/projects/VowelStuday/Data/sub-1PilotoDan/ses-S002/eeg/sub-1PilotoDan_ses-S002_task-Default_run-001_eeg.xdf'\n",
    "sub = '01'\n",
    "ses = '02'\n",
    "\n"
   ]
  },
  {
   "cell_type": "code",
   "execution_count": 4,
   "metadata": {},
   "outputs": [
    {
     "data": {
      "text/html": [
       "<pre style=\"white-space:pre;overflow-x:auto;line-height:normal;font-family:Menlo,'DejaVu Sans Mono',consolas,'Courier New',monospace\"><span style=\"color: #808000; text-decoration-color: #808000\">╭─────────────────────────────────────╮</span>\n",
       "<span style=\"color: #808000; text-decoration-color: #808000\">│</span> 🚀 <span style=\"color: #808000; text-decoration-color: #808000; font-weight: bold\">Initializing XDFDataReader Class</span> <span style=\"color: #808000; text-decoration-color: #808000\">│</span>\n",
       "<span style=\"color: #808000; text-decoration-color: #808000\">╰─────────────────────────────────────╯</span>\n",
       "</pre>\n"
      ],
      "text/plain": [
       "\u001b[33m╭─────────────────────────────────────╮\u001b[0m\n",
       "\u001b[33m│\u001b[0m 🚀 \u001b[1;33mInitializing XDFDataReader Class\u001b[0m \u001b[33m│\u001b[0m\n",
       "\u001b[33m╰─────────────────────────────────────╯\u001b[0m\n"
      ]
     },
     "metadata": {},
     "output_type": "display_data"
    },
    {
     "data": {
      "text/html": [
       "<pre style=\"white-space:pre;overflow-x:auto;line-height:normal;font-family:Menlo,'DejaVu Sans Mono',consolas,'Courier New',monospace\">👤 <span style=\"color: #008080; text-decoration-color: #008080; font-weight: bold\">Subject: </span><span style=\"color: #008080; text-decoration-color: #008080; font-weight: bold\">01</span><span style=\"color: #008080; text-decoration-color: #008080; font-weight: bold\"> | 🗂 Session: </span><span style=\"color: #008080; text-decoration-color: #008080; font-weight: bold\">02</span>\n",
       "</pre>\n"
      ],
      "text/plain": [
       "👤 \u001b[1;36mSubject: \u001b[0m\u001b[1;36m01\u001b[0m\u001b[1;36m | 🗂 Session: \u001b[0m\u001b[1;36m02\u001b[0m\n"
      ]
     },
     "metadata": {},
     "output_type": "display_data"
    },
    {
     "data": {
      "text/html": [
       "<pre style=\"white-space:pre;overflow-x:auto;line-height:normal;font-family:Menlo,'DejaVu Sans Mono',consolas,'Courier New',monospace\">📡 <span style=\"color: #800080; text-decoration-color: #800080; font-weight: bold\">Resolving streams from XDF file...</span>\n",
       "</pre>\n"
      ],
      "text/plain": [
       "📡 \u001b[1;35mResolving streams from XDF file\u001b[0m\u001b[1;35m...\u001b[0m\n"
      ]
     },
     "metadata": {},
     "output_type": "display_data"
    },
    {
     "data": {
      "text/html": [
       "<pre style=\"white-space:pre;overflow-x:auto;line-height:normal;font-family:Menlo,'DejaVu Sans Mono',consolas,'Courier New',monospace\">📂 <span style=\"color: #800080; text-decoration-color: #800080; font-weight: bold\">Reading XDF File...</span>\n",
       "</pre>\n"
      ],
      "text/plain": [
       "📂 \u001b[1;35mReading XDF File\u001b[0m\u001b[1;35m...\u001b[0m\n"
      ]
     },
     "metadata": {},
     "output_type": "display_data"
    },
    {
     "data": {
      "text/html": [
       "<pre style=\"white-space:pre;overflow-x:auto;line-height:normal;font-family:Menlo,'DejaVu Sans Mono',consolas,'Courier New',monospace\">🧠 <span style=\"color: #000080; text-decoration-color: #000080; font-weight: bold\">Loading EEG Data...</span>\n",
       "</pre>\n"
      ],
      "text/plain": [
       "🧠 \u001b[1;34mLoading EEG Data\u001b[0m\u001b[1;34m...\u001b[0m\n"
      ]
     },
     "metadata": {},
     "output_type": "display_data"
    },
    {
     "data": {
      "text/html": [
       "<pre style=\"white-space:pre;overflow-x:auto;line-height:normal;font-family:Menlo,'DejaVu Sans Mono',consolas,'Courier New',monospace\">✅ <span style=\"color: #008000; text-decoration-color: #008000; font-weight: bold\">EEG Data Loaded Successfully!</span>\n",
       "</pre>\n"
      ],
      "text/plain": [
       "✅ \u001b[1;32mEEG Data Loaded Successfully!\u001b[0m\n"
      ]
     },
     "metadata": {},
     "output_type": "display_data"
    }
   ],
   "source": [
    "xdf_reader = XDFDataReader(\n",
    "    filepath=filepath,\n",
    "    sub_id=sub,\n",
    "    ses_id=ses\n",
    ")"
   ]
  },
  {
   "cell_type": "code",
   "execution_count": 5,
   "metadata": {},
   "outputs": [
    {
     "data": {
      "text/plain": [
       "<Annotations | 12800 segments: CovertEndFixation (400), CovertEndISI ...>"
      ]
     },
     "execution_count": 5,
     "metadata": {},
     "output_type": "execute_result"
    }
   ],
   "source": [
    "xdf_reader.eeg.annotations"
   ]
  },
  {
   "cell_type": "code",
   "execution_count": 6,
   "metadata": {},
   "outputs": [],
   "source": [
    "events = xdf_reader.eeg.annotations"
   ]
  },
  {
   "cell_type": "code",
   "execution_count": 7,
   "metadata": {},
   "outputs": [],
   "source": [
    "times = []\n",
    "descriptions = []\n",
    "index = 0\n",
    "for event in events:\n",
    "    times.append(event['onset'])\n",
    "    descriptions.append(event['description'])"
   ]
  },
  {
   "cell_type": "code",
   "execution_count": 65,
   "metadata": {},
   "outputs": [],
   "source": [
    "data = {'onset':times, 'description':descriptions}\n",
    "data = pd.DataFrame(data)"
   ]
  },
  {
   "cell_type": "code",
   "execution_count": 66,
   "metadata": {},
   "outputs": [
    {
     "data": {
      "text/html": [
       "<div>\n",
       "<style scoped>\n",
       "    .dataframe tbody tr th:only-of-type {\n",
       "        vertical-align: middle;\n",
       "    }\n",
       "\n",
       "    .dataframe tbody tr th {\n",
       "        vertical-align: top;\n",
       "    }\n",
       "\n",
       "    .dataframe thead th {\n",
       "        text-align: right;\n",
       "    }\n",
       "</style>\n",
       "<table border=\"1\" class=\"dataframe\">\n",
       "  <thead>\n",
       "    <tr style=\"text-align: right;\">\n",
       "      <th></th>\n",
       "      <th>onset</th>\n",
       "      <th>description</th>\n",
       "    </tr>\n",
       "  </thead>\n",
       "  <tbody>\n",
       "    <tr>\n",
       "      <th>0</th>\n",
       "      <td>10.072197</td>\n",
       "      <td>CovertStartFixation</td>\n",
       "    </tr>\n",
       "    <tr>\n",
       "      <th>1</th>\n",
       "      <td>10.587160</td>\n",
       "      <td>CovertEndFixation</td>\n",
       "    </tr>\n",
       "    <tr>\n",
       "      <th>2</th>\n",
       "      <td>10.587240</td>\n",
       "      <td>FixationCovertVowel:dummy</td>\n",
       "    </tr>\n",
       "    <tr>\n",
       "      <th>3</th>\n",
       "      <td>10.589407</td>\n",
       "      <td>CovertStartStimulus</td>\n",
       "    </tr>\n",
       "    <tr>\n",
       "      <th>4</th>\n",
       "      <td>11.337173</td>\n",
       "      <td>CovertEndStimulus</td>\n",
       "    </tr>\n",
       "    <tr>\n",
       "      <th>...</th>\n",
       "      <td>...</td>\n",
       "      <td>...</td>\n",
       "    </tr>\n",
       "    <tr>\n",
       "      <th>12795</th>\n",
       "      <td>4080.290676</td>\n",
       "      <td>OvertEndSpeech</td>\n",
       "    </tr>\n",
       "    <tr>\n",
       "      <th>12796</th>\n",
       "      <td>4080.290750</td>\n",
       "      <td>SpeechOvertVowelA</td>\n",
       "    </tr>\n",
       "    <tr>\n",
       "      <th>12797</th>\n",
       "      <td>4080.290789</td>\n",
       "      <td>OvertStartITI</td>\n",
       "    </tr>\n",
       "    <tr>\n",
       "      <th>12798</th>\n",
       "      <td>4080.790695</td>\n",
       "      <td>OvertEndITI</td>\n",
       "    </tr>\n",
       "    <tr>\n",
       "      <th>12799</th>\n",
       "      <td>4080.790775</td>\n",
       "      <td>ITIOvertVowelA</td>\n",
       "    </tr>\n",
       "  </tbody>\n",
       "</table>\n",
       "<p>12800 rows × 2 columns</p>\n",
       "</div>"
      ],
      "text/plain": [
       "             onset                description\n",
       "0        10.072197        CovertStartFixation\n",
       "1        10.587160          CovertEndFixation\n",
       "2        10.587240  FixationCovertVowel:dummy\n",
       "3        10.589407        CovertStartStimulus\n",
       "4        11.337173          CovertEndStimulus\n",
       "...            ...                        ...\n",
       "12795  4080.290676             OvertEndSpeech\n",
       "12796  4080.290750          SpeechOvertVowelA\n",
       "12797  4080.290789              OvertStartITI\n",
       "12798  4080.790695                OvertEndITI\n",
       "12799  4080.790775             ITIOvertVowelA\n",
       "\n",
       "[12800 rows x 2 columns]"
      ]
     },
     "execution_count": 66,
     "metadata": {},
     "output_type": "execute_result"
    }
   ],
   "source": [
    "data"
   ]
  },
  {
   "cell_type": "code",
   "execution_count": 67,
   "metadata": {},
   "outputs": [],
   "source": [
    "df = data.copy()"
   ]
  },
  {
   "cell_type": "code",
   "execution_count": 68,
   "metadata": {},
   "outputs": [],
   "source": [
    "def categorize(row):\n",
    "    # Start/End column\n",
    "    if 'Start' in row['description']:\n",
    "        row['Start/End'] = 'Start'\n",
    "    elif 'End' in row['description']:\n",
    "        row['Start/End'] = 'End'\n",
    "    else:\n",
    "        row['Start/End'] = ''\n",
    "   \n",
    "    # Covert/Overt column\n",
    "    if 'Covert' in row['description']:\n",
    "        row['Covert/Overt'] = 'Covert'\n",
    "    else:\n",
    "        row['Covert/Overt'] = 'Overt'\n",
    "   \n",
    "    # Fixation/Stimulus/ISI/ITI/Speech column\n",
    "    if 'Fixation' in row['description']:\n",
    "        row['Fixation/Stimulus/ISI/ITI/Speech'] = 'Fixation'\n",
    "    elif 'Stimulus' in row['description']:\n",
    "        row['Fixation/Stimulus/ISI/ITI/Speech'] = 'Stimulus'\n",
    "    elif 'ISI' in row['description']:\n",
    "        row['Fixation/Stimulus/ISI/ITI/Speech'] = 'ISI'\n",
    "    elif 'ITI' in row['description']:\n",
    "        row['Fixation/Stimulus/ISI/ITI/Speech'] = 'ITI'\n",
    "    elif 'Speech' in row['description']:\n",
    "        row['Fixation/Stimulus/ISI/ITI/Speech'] = 'Speech'\n",
    "    else:\n",
    "        row['Fixation/Stimulus/ISI/ITI/Speech'] = ''\n",
    "   \n",
    "    vowel_info = ''\n",
    "    # Extract vowel info from the description if applicable\n",
    "    if 'Vowel' in row['description'] and 'Fixation' in row['description']:\n",
    "        vowel_info = row['description'].split('Vowel')[1]\n",
    "        \n",
    "    elif 'Vowel' in row['description'] and 'Target' in row['description']:\n",
    "        vowel_info = row['description'].split('Vowel')[1]\n",
    "    elif 'Vowel' in row['description'] and 'Speech' in row['description']:\n",
    "        vowel_info = row['description'].split('Vowel')[1]\n",
    "     \n",
    "\n",
    "    else:\n",
    "        pass\n",
    "    if ':' in vowel_info:\n",
    "        vowel_info = vowel_info.split(':')[1]\n",
    "    row['Vowel'] = vowel_info\n",
    "    \n",
    "    return row\n",
    "\n",
    "# Apply categorization\n",
    "df = df.apply(categorize, axis=1)"
   ]
  },
  {
   "cell_type": "code",
   "execution_count": 69,
   "metadata": {},
   "outputs": [
    {
     "data": {
      "text/html": [
       "<div>\n",
       "<style scoped>\n",
       "    .dataframe tbody tr th:only-of-type {\n",
       "        vertical-align: middle;\n",
       "    }\n",
       "\n",
       "    .dataframe tbody tr th {\n",
       "        vertical-align: top;\n",
       "    }\n",
       "\n",
       "    .dataframe thead th {\n",
       "        text-align: right;\n",
       "    }\n",
       "</style>\n",
       "<table border=\"1\" class=\"dataframe\">\n",
       "  <thead>\n",
       "    <tr style=\"text-align: right;\">\n",
       "      <th></th>\n",
       "      <th>onset</th>\n",
       "      <th>description</th>\n",
       "      <th>Start/End</th>\n",
       "      <th>Covert/Overt</th>\n",
       "      <th>Fixation/Stimulus/ISI/ITI/Speech</th>\n",
       "      <th>Vowel</th>\n",
       "    </tr>\n",
       "  </thead>\n",
       "  <tbody>\n",
       "    <tr>\n",
       "      <th>0</th>\n",
       "      <td>10.072197</td>\n",
       "      <td>CovertStartFixation</td>\n",
       "      <td>Start</td>\n",
       "      <td>Covert</td>\n",
       "      <td>Fixation</td>\n",
       "      <td></td>\n",
       "    </tr>\n",
       "    <tr>\n",
       "      <th>1</th>\n",
       "      <td>10.587160</td>\n",
       "      <td>CovertEndFixation</td>\n",
       "      <td>End</td>\n",
       "      <td>Covert</td>\n",
       "      <td>Fixation</td>\n",
       "      <td></td>\n",
       "    </tr>\n",
       "    <tr>\n",
       "      <th>2</th>\n",
       "      <td>10.587240</td>\n",
       "      <td>FixationCovertVowel:dummy</td>\n",
       "      <td></td>\n",
       "      <td>Covert</td>\n",
       "      <td>Fixation</td>\n",
       "      <td>dummy</td>\n",
       "    </tr>\n",
       "    <tr>\n",
       "      <th>3</th>\n",
       "      <td>10.589407</td>\n",
       "      <td>CovertStartStimulus</td>\n",
       "      <td>Start</td>\n",
       "      <td>Covert</td>\n",
       "      <td>Stimulus</td>\n",
       "      <td></td>\n",
       "    </tr>\n",
       "    <tr>\n",
       "      <th>4</th>\n",
       "      <td>11.337173</td>\n",
       "      <td>CovertEndStimulus</td>\n",
       "      <td>End</td>\n",
       "      <td>Covert</td>\n",
       "      <td>Stimulus</td>\n",
       "      <td></td>\n",
       "    </tr>\n",
       "    <tr>\n",
       "      <th>...</th>\n",
       "      <td>...</td>\n",
       "      <td>...</td>\n",
       "      <td>...</td>\n",
       "      <td>...</td>\n",
       "      <td>...</td>\n",
       "      <td>...</td>\n",
       "    </tr>\n",
       "    <tr>\n",
       "      <th>12795</th>\n",
       "      <td>4080.290676</td>\n",
       "      <td>OvertEndSpeech</td>\n",
       "      <td>End</td>\n",
       "      <td>Overt</td>\n",
       "      <td>Speech</td>\n",
       "      <td></td>\n",
       "    </tr>\n",
       "    <tr>\n",
       "      <th>12796</th>\n",
       "      <td>4080.290750</td>\n",
       "      <td>SpeechOvertVowelA</td>\n",
       "      <td></td>\n",
       "      <td>Overt</td>\n",
       "      <td>Speech</td>\n",
       "      <td></td>\n",
       "    </tr>\n",
       "    <tr>\n",
       "      <th>12797</th>\n",
       "      <td>4080.290789</td>\n",
       "      <td>OvertStartITI</td>\n",
       "      <td>Start</td>\n",
       "      <td>Overt</td>\n",
       "      <td>ITI</td>\n",
       "      <td></td>\n",
       "    </tr>\n",
       "    <tr>\n",
       "      <th>12798</th>\n",
       "      <td>4080.790695</td>\n",
       "      <td>OvertEndITI</td>\n",
       "      <td>End</td>\n",
       "      <td>Overt</td>\n",
       "      <td>ITI</td>\n",
       "      <td></td>\n",
       "    </tr>\n",
       "    <tr>\n",
       "      <th>12799</th>\n",
       "      <td>4080.790775</td>\n",
       "      <td>ITIOvertVowelA</td>\n",
       "      <td></td>\n",
       "      <td>Overt</td>\n",
       "      <td>ITI</td>\n",
       "      <td></td>\n",
       "    </tr>\n",
       "  </tbody>\n",
       "</table>\n",
       "<p>12800 rows × 6 columns</p>\n",
       "</div>"
      ],
      "text/plain": [
       "             onset                description Start/End Covert/Overt  \\\n",
       "0        10.072197        CovertStartFixation     Start       Covert   \n",
       "1        10.587160          CovertEndFixation       End       Covert   \n",
       "2        10.587240  FixationCovertVowel:dummy                 Covert   \n",
       "3        10.589407        CovertStartStimulus     Start       Covert   \n",
       "4        11.337173          CovertEndStimulus       End       Covert   \n",
       "...            ...                        ...       ...          ...   \n",
       "12795  4080.290676             OvertEndSpeech       End        Overt   \n",
       "12796  4080.290750          SpeechOvertVowelA                  Overt   \n",
       "12797  4080.290789              OvertStartITI     Start        Overt   \n",
       "12798  4080.790695                OvertEndITI       End        Overt   \n",
       "12799  4080.790775             ITIOvertVowelA                  Overt   \n",
       "\n",
       "      Fixation/Stimulus/ISI/ITI/Speech  Vowel  \n",
       "0                             Fixation         \n",
       "1                             Fixation         \n",
       "2                             Fixation  dummy  \n",
       "3                             Stimulus         \n",
       "4                             Stimulus         \n",
       "...                                ...    ...  \n",
       "12795                           Speech         \n",
       "12796                           Speech         \n",
       "12797                              ITI         \n",
       "12798                              ITI         \n",
       "12799                              ITI         \n",
       "\n",
       "[12800 rows x 6 columns]"
      ]
     },
     "execution_count": 69,
     "metadata": {},
     "output_type": "execute_result"
    }
   ],
   "source": [
    "df"
   ]
  },
  {
   "cell_type": "code",
   "execution_count": 63,
   "metadata": {},
   "outputs": [],
   "source": [
    "df.to_csv('markers.csv')"
   ]
  },
  {
   "cell_type": "code",
   "execution_count": 70,
   "metadata": {},
   "outputs": [
    {
     "name": "stderr",
     "output_type": "stream",
     "text": [
      "/tmp/ipykernel_1756079/2170217911.py:2: FutureWarning: Series.fillna with 'method' is deprecated and will raise in a future version. Use obj.ffill() or obj.bfill() instead.\n",
      "  df['Vowel'] = df['Vowel'].fillna(method='bfill')\n"
     ]
    }
   ],
   "source": [
    "df['Vowel'] = df['Vowel'].where(df['Vowel'] != '', other=None)\n",
    "df['Vowel'] = df['Vowel'].fillna(method='bfill')"
   ]
  },
  {
   "cell_type": "code",
   "execution_count": 71,
   "metadata": {},
   "outputs": [],
   "source": [
    "df.to_csv('markers.csv')"
   ]
  },
  {
   "cell_type": "code",
   "execution_count": null,
   "metadata": {},
   "outputs": [],
   "source": []
  }
 ],
 "metadata": {
  "kernelspec": {
   "display_name": "vow",
   "language": "python",
   "name": "python3"
  },
  "language_info": {
   "codemirror_mode": {
    "name": "ipython",
    "version": 3
   },
   "file_extension": ".py",
   "mimetype": "text/x-python",
   "name": "python",
   "nbconvert_exporter": "python",
   "pygments_lexer": "ipython3",
   "version": "3.10.16"
  }
 },
 "nbformat": 4,
 "nbformat_minor": 2
}
