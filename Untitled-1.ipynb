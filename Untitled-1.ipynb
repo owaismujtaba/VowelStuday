{
 "cells": [
  {
   "cell_type": "code",
   "execution_count": 13,
   "metadata": {},
   "outputs": [],
   "source": [
    "from src.dataset.data_reader import XDFDataReader\n",
    "import pandas as pd"
   ]
  },
  {
   "cell_type": "code",
   "execution_count": 2,
   "metadata": {},
   "outputs": [],
   "source": [
    "\n",
    "filepath  = '/home/owaismujtaba/projects/VowelStuday/Data/sub-1PilotoDan/ses-S002/eeg/sub-1PilotoDan_ses-S002_task-Default_run-001_eeg.xdf'\n",
    "sub = '01'\n",
    "ses = '02'\n",
    "\n"
   ]
  },
  {
   "cell_type": "code",
   "execution_count": 3,
   "metadata": {},
   "outputs": [
    {
     "name": "stdout",
     "output_type": "stream",
     "text": [
      "\n",
      "================================================================================\n",
      "\u001b[1m                        Initializing XDFDataReader Class                        \u001b[0m\n",
      "================================================================================\n",
      "\n",
      "Subject: 01 ::: Session: 02\n",
      "Reading XDF File\n",
      "Loading EEG Data\n"
     ]
    }
   ],
   "source": [
    "xdf_reader = XDFDataReader(\n",
    "    filepath=filepath,\n",
    "    sub_id=sub,\n",
    "    ses_id=ses\n",
    ")"
   ]
  },
  {
   "cell_type": "code",
   "execution_count": 5,
   "metadata": {},
   "outputs": [
    {
     "data": {
      "text/plain": [
       "<Annotations | 12800 segments: CovertEndFixation (400), CovertEndISI ...>"
      ]
     },
     "execution_count": 5,
     "metadata": {},
     "output_type": "execute_result"
    }
   ],
   "source": [
    "xdf_reader.eeg.annotations"
   ]
  },
  {
   "cell_type": "code",
   "execution_count": 6,
   "metadata": {},
   "outputs": [],
   "source": [
    "\n",
    "events = xdf_reader.eeg.annotations"
   ]
  },
  {
   "cell_type": "code",
   "execution_count": 11,
   "metadata": {},
   "outputs": [],
   "source": [
    "times = []\n",
    "descriptions = []\n",
    "index = 0\n",
    "for event in events:\n",
    "    times.append(event['onset'])\n",
    "    descriptions.append(event['description'])"
   ]
  },
  {
   "cell_type": "code",
   "execution_count": 21,
   "metadata": {},
   "outputs": [],
   "source": [
    "data = {'onset':times, 'description':descriptions}\n",
    "data = pd.DataFrame(data)"
   ]
  },
  {
   "cell_type": "code",
   "execution_count": 22,
   "metadata": {},
   "outputs": [
    {
     "data": {
      "text/html": [
       "<div>\n",
       "<style scoped>\n",
       "    .dataframe tbody tr th:only-of-type {\n",
       "        vertical-align: middle;\n",
       "    }\n",
       "\n",
       "    .dataframe tbody tr th {\n",
       "        vertical-align: top;\n",
       "    }\n",
       "\n",
       "    .dataframe thead th {\n",
       "        text-align: right;\n",
       "    }\n",
       "</style>\n",
       "<table border=\"1\" class=\"dataframe\">\n",
       "  <thead>\n",
       "    <tr style=\"text-align: right;\">\n",
       "      <th></th>\n",
       "      <th>onset</th>\n",
       "      <th>description</th>\n",
       "    </tr>\n",
       "  </thead>\n",
       "  <tbody>\n",
       "    <tr>\n",
       "      <th>0</th>\n",
       "      <td>10.072197</td>\n",
       "      <td>CovertStartFixation</td>\n",
       "    </tr>\n",
       "    <tr>\n",
       "      <th>1</th>\n",
       "      <td>10.587160</td>\n",
       "      <td>CovertEndFixation</td>\n",
       "    </tr>\n",
       "    <tr>\n",
       "      <th>2</th>\n",
       "      <td>10.587240</td>\n",
       "      <td>FixationCovertVowel:dummy</td>\n",
       "    </tr>\n",
       "    <tr>\n",
       "      <th>3</th>\n",
       "      <td>10.589407</td>\n",
       "      <td>CovertStartStimulus</td>\n",
       "    </tr>\n",
       "    <tr>\n",
       "      <th>4</th>\n",
       "      <td>11.337173</td>\n",
       "      <td>CovertEndStimulus</td>\n",
       "    </tr>\n",
       "    <tr>\n",
       "      <th>...</th>\n",
       "      <td>...</td>\n",
       "      <td>...</td>\n",
       "    </tr>\n",
       "    <tr>\n",
       "      <th>12795</th>\n",
       "      <td>4080.290676</td>\n",
       "      <td>OvertEndSpeech</td>\n",
       "    </tr>\n",
       "    <tr>\n",
       "      <th>12796</th>\n",
       "      <td>4080.290750</td>\n",
       "      <td>SpeechOvertVowelA</td>\n",
       "    </tr>\n",
       "    <tr>\n",
       "      <th>12797</th>\n",
       "      <td>4080.290789</td>\n",
       "      <td>OvertStartITI</td>\n",
       "    </tr>\n",
       "    <tr>\n",
       "      <th>12798</th>\n",
       "      <td>4080.790695</td>\n",
       "      <td>OvertEndITI</td>\n",
       "    </tr>\n",
       "    <tr>\n",
       "      <th>12799</th>\n",
       "      <td>4080.790775</td>\n",
       "      <td>ITIOvertVowelA</td>\n",
       "    </tr>\n",
       "  </tbody>\n",
       "</table>\n",
       "<p>12800 rows × 2 columns</p>\n",
       "</div>"
      ],
      "text/plain": [
       "             onset                description\n",
       "0        10.072197        CovertStartFixation\n",
       "1        10.587160          CovertEndFixation\n",
       "2        10.587240  FixationCovertVowel:dummy\n",
       "3        10.589407        CovertStartStimulus\n",
       "4        11.337173          CovertEndStimulus\n",
       "...            ...                        ...\n",
       "12795  4080.290676             OvertEndSpeech\n",
       "12796  4080.290750          SpeechOvertVowelA\n",
       "12797  4080.290789              OvertStartITI\n",
       "12798  4080.790695                OvertEndITI\n",
       "12799  4080.790775             ITIOvertVowelA\n",
       "\n",
       "[12800 rows x 2 columns]"
      ]
     },
     "execution_count": 22,
     "metadata": {},
     "output_type": "execute_result"
    }
   ],
   "source": [
    "data"
   ]
  },
  {
   "cell_type": "code",
   "execution_count": 24,
   "metadata": {},
   "outputs": [],
   "source": [
    "data.to_csv('markers.csv')"
   ]
  },
  {
   "cell_type": "code",
   "execution_count": null,
   "metadata": {},
   "outputs": [],
   "source": []
  }
 ],
 "metadata": {
  "kernelspec": {
   "display_name": "vow",
   "language": "python",
   "name": "python3"
  },
  "language_info": {
   "codemirror_mode": {
    "name": "ipython",
    "version": 3
   },
   "file_extension": ".py",
   "mimetype": "text/x-python",
   "name": "python",
   "nbconvert_exporter": "python",
   "pygments_lexer": "ipython3",
   "version": "3.10.16"
  }
 },
 "nbformat": 4,
 "nbformat_minor": 2
}
